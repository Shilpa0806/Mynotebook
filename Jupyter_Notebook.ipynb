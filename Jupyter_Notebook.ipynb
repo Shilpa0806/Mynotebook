{
 "cells": [
  {
   "cell_type": "markdown",
   "metadata": {},
   "source": [
    "# My Jupyter Notebook in IBM Watson Studio"
   ]
  },
  {
   "cell_type": "markdown",
   "metadata": {},
   "source": [
    "**SHILPA MOHTA**\n",
    "\n",
    "Business Analyst"
   ]
  },
  {
   "cell_type": "markdown",
   "metadata": {},
   "source": [
    "_I am interested in Data Science because I like to analyze data. Data Science is the field in which I will be able to use my skills as Computer Science, Mathematics, Statistics and curiosity also._"
   ]
  },
  {
   "cell_type": "markdown",
   "metadata": {},
   "source": [
    "### The following code will show weather the given number is even or odd."
   ]
  },
  {
   "cell_type": "code",
   "execution_count": 5,
   "metadata": {},
   "outputs": [
    {
     "name": "stdin",
     "output_type": "stream",
     "text": [
      "enter your number 68\n"
     ]
    },
    {
     "name": "stdout",
     "output_type": "stream",
     "text": [
      "The number is even\n"
     ]
    }
   ],
   "source": [
    "def chknumber(n):\n",
    "    if n % 2 == 0:\n",
    "        return print(\"The number is even\")\n",
    "    else:\n",
    "        return print(\"The number is odd\")\n",
    "\n",
    "n = int(input(\"enter your number\"))\n",
    "chknumber(n)"
   ]
  },
  {
   "cell_type": "markdown",
   "metadata": {},
   "source": [
    "### Horizontal line as separator.\n",
    "this is my Jupyter Notebook.\n",
    "***\n",
    "This is the content below the horizontal separator."
   ]
  },
  {
   "cell_type": "markdown",
   "metadata": {},
   "source": [
    "### Numbered Lists.\n",
    "1. I\n",
    "2. want \n",
    "3. to\n",
    "4. become\n",
    "5. Data Scientist."
   ]
  },
  {
   "cell_type": "markdown",
   "metadata": {},
   "source": [
    "### Table\n",
    "\n",
    "| Age | Height | Weight |\n",
    "| ---- | ---- | ---- |\n",
    "| 30 | 5'3 | 70 |\n",
    "| 29 | 5'10 | 82 |"
   ]
  }
 ],
 "metadata": {
  "kernelspec": {
   "display_name": "Python",
   "language": "python",
   "name": "conda-env-python-py"
  },
  "language_info": {
   "codemirror_mode": {
    "name": "ipython",
    "version": 3
   },
   "file_extension": ".py",
   "mimetype": "text/x-python",
   "name": "python",
   "nbconvert_exporter": "python",
   "pygments_lexer": "ipython3",
   "version": "3.7.12"
  }
 },
 "nbformat": 4,
 "nbformat_minor": 4
}
